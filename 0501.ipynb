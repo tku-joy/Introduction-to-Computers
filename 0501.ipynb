{
  "nbformat": 4,
  "nbformat_minor": 0,
  "metadata": {
    "colab": {
      "provenance": [],
      "authorship_tag": "ABX9TyMxGSl2uEbk7iQfKy6HMxam",
      "include_colab_link": true
    },
    "kernelspec": {
      "name": "python3",
      "display_name": "Python 3"
    },
    "language_info": {
      "name": "python"
    }
  },
  "cells": [
    {
      "cell_type": "markdown",
      "metadata": {
        "id": "view-in-github",
        "colab_type": "text"
      },
      "source": [
        "<a href=\"https://colab.research.google.com/github/tku-joy/Introduction-to-Computers/blob/main/0501.ipynb\" target=\"_parent\"><img src=\"https://colab.research.google.com/assets/colab-badge.svg\" alt=\"Open In Colab\"/></a>"
      ]
    },
    {
      "cell_type": "code",
      "execution_count": 3,
      "metadata": {
        "colab": {
          "base_uri": "https://localhost:8080/"
        },
        "id": "EKCbdPZoiHPo",
        "outputId": "7c65f5af-54ce-4360-a77b-cc12cd2d5014"
      },
      "outputs": [
        {
          "output_type": "stream",
          "name": "stdout",
          "text": [
            "請輸入本金存款金額:10000\n",
            "6年後存款後:11261.62419264\n"
          ]
        }
      ],
      "source": [
        "i=int(input('請輸入本金存款金額:'))\n",
        "years=1.02**6\n",
        "i*=years\n",
        "print('6年後存款後:'+str(i))"
      ]
    },
    {
      "cell_type": "code",
      "source": [
        "i=input('請輸入密碼:')\n",
        "if(i=='1324'):\n",
        "  print('歡迎光臨!')"
      ],
      "metadata": {
        "colab": {
          "base_uri": "https://localhost:8080/"
        },
        "id": "gaCytRhrwc0P",
        "outputId": "709d1230-b208-4c89-87a6-31403d417c1a"
      },
      "execution_count": 4,
      "outputs": [
        {
          "name": "stdout",
          "output_type": "stream",
          "text": [
            "請輸入密碼:1111\n"
          ]
        }
      ]
    },
    {
      "cell_type": "code",
      "source": [
        "i=input('請輸入密碼:')\n",
        "if(i=='1324'):\n",
        " print('歡迎光臨!')\n",
        "else:\n",
        "  print('密碼錯誤!')"
      ],
      "metadata": {
        "colab": {
          "base_uri": "https://localhost:8080/"
        },
        "id": "ijORePLExWIo",
        "outputId": "3d90f782-fa4c-4c39-e198-5cad485a643f"
      },
      "execution_count": 6,
      "outputs": [
        {
          "output_type": "stream",
          "name": "stdout",
          "text": [
            "請輸入密碼:1111\n",
            "密碼錯誤\n"
          ]
        }
      ]
    },
    {
      "cell_type": "code",
      "source": [
        "i=int(input('請輸入正整數:'))\n",
        "if i%2:\n",
        "  print(i,'為奇數!')\n",
        "else:\n",
        "  print(i,'為偶數!')"
      ],
      "metadata": {
        "colab": {
          "base_uri": "https://localhost:8080/"
        },
        "id": "tJ0VsGGDxsuk",
        "outputId": "7ac042fb-44f0-4e8c-a71a-64d97bb156d7"
      },
      "execution_count": 7,
      "outputs": [
        {
          "output_type": "stream",
          "name": "stdout",
          "text": [
            "請輸入正整數:51\n",
            "51 為奇數!\n"
          ]
        }
      ]
    },
    {
      "cell_type": "code",
      "source": [],
      "metadata": {
        "id": "hQKrqfORyNUG"
      },
      "execution_count": null,
      "outputs": []
    }
  ]
}