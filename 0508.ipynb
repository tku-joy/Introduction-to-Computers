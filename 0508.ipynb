{
  "nbformat": 4,
  "nbformat_minor": 0,
  "metadata": {
    "colab": {
      "provenance": [],
      "authorship_tag": "ABX9TyPidctSI6kcwUEhfD3tul1h",
      "include_colab_link": true
    },
    "kernelspec": {
      "name": "python3",
      "display_name": "Python 3"
    },
    "language_info": {
      "name": "python"
    }
  },
  "cells": [
    {
      "cell_type": "markdown",
      "metadata": {
        "id": "view-in-github",
        "colab_type": "text"
      },
      "source": [
        "<a href=\"https://colab.research.google.com/github/tku-joy/Introduction-to-Computers/blob/main/0508.ipynb\" target=\"_parent\"><img src=\"https://colab.research.google.com/assets/colab-badge.svg\" alt=\"Open In Colab\"/></a>"
      ]
    },
    {
      "cell_type": "code",
      "execution_count": 33,
      "metadata": {
        "colab": {
          "base_uri": "https://localhost:8080/"
        },
        "id": "ggC7888kb6h_",
        "outputId": "ff98e862-f109-4c38-a0fd-5c883c6868b5"
      },
      "outputs": [
        {
          "output_type": "stream",
          "name": "stdout",
          "text": [
            "38\n",
            "體溫過高!\n"
          ]
        }
      ],
      "source": [
        "t = float (input())\n",
        "if(t >= 0 ):\n",
        "  if (t >= 37.5):\n",
        "    print('體溫過高!')\n",
        "  elif (t >= 37):\n",
        "    print('體溫略高!')\n",
        "  elif (t >= 36.9):\n",
        "    print('體溫正常!')\n",
        "  elif (t < 34):\n",
        "    print('體溫異常，請重新測量!')"
      ]
    },
    {
      "cell_type": "code",
      "source": [
        "N = int(input(\"請輸入成績\"))\n",
        "if(N >= 0 ):\n",
        "  if(N > 90 ):\n",
        "    print('A')\n",
        "  elif(N >= 80 ):\n",
        "     print('B')\n",
        "  elif(N >= 70 ):\n",
        "     print('C')\n",
        "  elif(N >= 60 ):\n",
        "    print('D')\n",
        "  elif(N < 60 ):\n",
        "    print('E')"
      ],
      "metadata": {
        "colab": {
          "base_uri": "https://localhost:8080/"
        },
        "id": "_Bq77NBuevCt",
        "outputId": "f1996c06-ed09-481f-a53c-e17523f309b7"
      },
      "execution_count": 36,
      "outputs": [
        {
          "output_type": "stream",
          "name": "stdout",
          "text": [
            "請輸入成績90\n",
            "B\n"
          ]
        }
      ]
    },
    {
      "cell_type": "code",
      "source": [
        "month = int(input())\n",
        "if(month >= 1 and month <= 12):\n",
        "  if(month==3 or month==4 or month==5):\n",
        "    print('{}  月是春天!'.format(month))\n",
        "  elif(month==6 or month==7 or month==8):\n",
        "    print('{}  月是夏天!'.format(month))\n",
        "  elif(month==9 or month==10 or month==11):\n",
        "    print('{}  月是秋天!'.format(month))\n",
        "  elif(month==12 or month==1 or month==2):\n",
        "    print('{}  月是冬天!'.format(month))\n",
        "else:\n",
        "  print('月份不在範圍內')"
      ],
      "metadata": {
        "colab": {
          "base_uri": "https://localhost:8080/"
        },
        "id": "B2f0LptxevE1",
        "outputId": "9d10210c-9bfd-47b8-c92b-c9c462f60a2e"
      },
      "execution_count": 2,
      "outputs": [
        {
          "output_type": "stream",
          "name": "stdout",
          "text": [
            "5\n",
            "5  月是春天!\n"
          ]
        }
      ]
    }
  ]
}